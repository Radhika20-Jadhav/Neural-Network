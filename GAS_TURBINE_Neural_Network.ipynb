{
 "cells": [
  {
   "cell_type": "code",
   "execution_count": 1,
   "id": "77681a4b",
   "metadata": {},
   "outputs": [],
   "source": [
    "import tensorflow as tf\n",
    "import numpy as np\n",
    "import pandas as pd\n",
    "import warnings\n",
    "warnings.filterwarnings(\"ignore\")"
   ]
  },
  {
   "cell_type": "code",
   "execution_count": 2,
   "id": "16269164",
   "metadata": {},
   "outputs": [],
   "source": [
    "GT=pd.read_csv(\"gas_turbines.csv\")"
   ]
  },
  {
   "cell_type": "code",
   "execution_count": 3,
   "id": "667e019e",
   "metadata": {},
   "outputs": [
    {
     "data": {
      "text/html": [
       "<div>\n",
       "<style scoped>\n",
       "    .dataframe tbody tr th:only-of-type {\n",
       "        vertical-align: middle;\n",
       "    }\n",
       "\n",
       "    .dataframe tbody tr th {\n",
       "        vertical-align: top;\n",
       "    }\n",
       "\n",
       "    .dataframe thead th {\n",
       "        text-align: right;\n",
       "    }\n",
       "</style>\n",
       "<table border=\"1\" class=\"dataframe\">\n",
       "  <thead>\n",
       "    <tr style=\"text-align: right;\">\n",
       "      <th></th>\n",
       "      <th>AT</th>\n",
       "      <th>AP</th>\n",
       "      <th>AH</th>\n",
       "      <th>AFDP</th>\n",
       "      <th>GTEP</th>\n",
       "      <th>TIT</th>\n",
       "      <th>TAT</th>\n",
       "      <th>TEY</th>\n",
       "      <th>CDP</th>\n",
       "      <th>CO</th>\n",
       "      <th>NOX</th>\n",
       "    </tr>\n",
       "  </thead>\n",
       "  <tbody>\n",
       "    <tr>\n",
       "      <th>0</th>\n",
       "      <td>6.8594</td>\n",
       "      <td>1007.9</td>\n",
       "      <td>96.799</td>\n",
       "      <td>3.5000</td>\n",
       "      <td>19.663</td>\n",
       "      <td>1059.2</td>\n",
       "      <td>550.00</td>\n",
       "      <td>114.70</td>\n",
       "      <td>10.605</td>\n",
       "      <td>3.1547</td>\n",
       "      <td>82.722</td>\n",
       "    </tr>\n",
       "    <tr>\n",
       "      <th>1</th>\n",
       "      <td>6.7850</td>\n",
       "      <td>1008.4</td>\n",
       "      <td>97.118</td>\n",
       "      <td>3.4998</td>\n",
       "      <td>19.728</td>\n",
       "      <td>1059.3</td>\n",
       "      <td>550.00</td>\n",
       "      <td>114.72</td>\n",
       "      <td>10.598</td>\n",
       "      <td>3.2363</td>\n",
       "      <td>82.776</td>\n",
       "    </tr>\n",
       "    <tr>\n",
       "      <th>2</th>\n",
       "      <td>6.8977</td>\n",
       "      <td>1008.8</td>\n",
       "      <td>95.939</td>\n",
       "      <td>3.4824</td>\n",
       "      <td>19.779</td>\n",
       "      <td>1059.4</td>\n",
       "      <td>549.87</td>\n",
       "      <td>114.71</td>\n",
       "      <td>10.601</td>\n",
       "      <td>3.2012</td>\n",
       "      <td>82.468</td>\n",
       "    </tr>\n",
       "    <tr>\n",
       "      <th>3</th>\n",
       "      <td>7.0569</td>\n",
       "      <td>1009.2</td>\n",
       "      <td>95.249</td>\n",
       "      <td>3.4805</td>\n",
       "      <td>19.792</td>\n",
       "      <td>1059.6</td>\n",
       "      <td>549.99</td>\n",
       "      <td>114.72</td>\n",
       "      <td>10.606</td>\n",
       "      <td>3.1923</td>\n",
       "      <td>82.670</td>\n",
       "    </tr>\n",
       "    <tr>\n",
       "      <th>4</th>\n",
       "      <td>7.3978</td>\n",
       "      <td>1009.7</td>\n",
       "      <td>95.150</td>\n",
       "      <td>3.4976</td>\n",
       "      <td>19.765</td>\n",
       "      <td>1059.7</td>\n",
       "      <td>549.98</td>\n",
       "      <td>114.72</td>\n",
       "      <td>10.612</td>\n",
       "      <td>3.2484</td>\n",
       "      <td>82.311</td>\n",
       "    </tr>\n",
       "    <tr>\n",
       "      <th>...</th>\n",
       "      <td>...</td>\n",
       "      <td>...</td>\n",
       "      <td>...</td>\n",
       "      <td>...</td>\n",
       "      <td>...</td>\n",
       "      <td>...</td>\n",
       "      <td>...</td>\n",
       "      <td>...</td>\n",
       "      <td>...</td>\n",
       "      <td>...</td>\n",
       "      <td>...</td>\n",
       "    </tr>\n",
       "    <tr>\n",
       "      <th>15034</th>\n",
       "      <td>9.0301</td>\n",
       "      <td>1005.6</td>\n",
       "      <td>98.460</td>\n",
       "      <td>3.5421</td>\n",
       "      <td>19.164</td>\n",
       "      <td>1049.7</td>\n",
       "      <td>546.21</td>\n",
       "      <td>111.61</td>\n",
       "      <td>10.400</td>\n",
       "      <td>4.5186</td>\n",
       "      <td>79.559</td>\n",
       "    </tr>\n",
       "    <tr>\n",
       "      <th>15035</th>\n",
       "      <td>7.8879</td>\n",
       "      <td>1005.9</td>\n",
       "      <td>99.093</td>\n",
       "      <td>3.5059</td>\n",
       "      <td>19.414</td>\n",
       "      <td>1046.3</td>\n",
       "      <td>543.22</td>\n",
       "      <td>111.78</td>\n",
       "      <td>10.433</td>\n",
       "      <td>4.8470</td>\n",
       "      <td>79.917</td>\n",
       "    </tr>\n",
       "    <tr>\n",
       "      <th>15036</th>\n",
       "      <td>7.2647</td>\n",
       "      <td>1006.3</td>\n",
       "      <td>99.496</td>\n",
       "      <td>3.4770</td>\n",
       "      <td>19.530</td>\n",
       "      <td>1037.7</td>\n",
       "      <td>537.32</td>\n",
       "      <td>110.19</td>\n",
       "      <td>10.483</td>\n",
       "      <td>7.9632</td>\n",
       "      <td>90.912</td>\n",
       "    </tr>\n",
       "    <tr>\n",
       "      <th>15037</th>\n",
       "      <td>7.0060</td>\n",
       "      <td>1006.8</td>\n",
       "      <td>99.008</td>\n",
       "      <td>3.4486</td>\n",
       "      <td>19.377</td>\n",
       "      <td>1043.2</td>\n",
       "      <td>541.24</td>\n",
       "      <td>110.74</td>\n",
       "      <td>10.533</td>\n",
       "      <td>6.2494</td>\n",
       "      <td>93.227</td>\n",
       "    </tr>\n",
       "    <tr>\n",
       "      <th>15038</th>\n",
       "      <td>6.9279</td>\n",
       "      <td>1007.2</td>\n",
       "      <td>97.533</td>\n",
       "      <td>3.4275</td>\n",
       "      <td>19.306</td>\n",
       "      <td>1049.9</td>\n",
       "      <td>545.85</td>\n",
       "      <td>111.58</td>\n",
       "      <td>10.583</td>\n",
       "      <td>4.9816</td>\n",
       "      <td>92.498</td>\n",
       "    </tr>\n",
       "  </tbody>\n",
       "</table>\n",
       "<p>15039 rows × 11 columns</p>\n",
       "</div>"
      ],
      "text/plain": [
       "           AT      AP      AH    AFDP    GTEP     TIT     TAT     TEY     CDP  \\\n",
       "0      6.8594  1007.9  96.799  3.5000  19.663  1059.2  550.00  114.70  10.605   \n",
       "1      6.7850  1008.4  97.118  3.4998  19.728  1059.3  550.00  114.72  10.598   \n",
       "2      6.8977  1008.8  95.939  3.4824  19.779  1059.4  549.87  114.71  10.601   \n",
       "3      7.0569  1009.2  95.249  3.4805  19.792  1059.6  549.99  114.72  10.606   \n",
       "4      7.3978  1009.7  95.150  3.4976  19.765  1059.7  549.98  114.72  10.612   \n",
       "...       ...     ...     ...     ...     ...     ...     ...     ...     ...   \n",
       "15034  9.0301  1005.6  98.460  3.5421  19.164  1049.7  546.21  111.61  10.400   \n",
       "15035  7.8879  1005.9  99.093  3.5059  19.414  1046.3  543.22  111.78  10.433   \n",
       "15036  7.2647  1006.3  99.496  3.4770  19.530  1037.7  537.32  110.19  10.483   \n",
       "15037  7.0060  1006.8  99.008  3.4486  19.377  1043.2  541.24  110.74  10.533   \n",
       "15038  6.9279  1007.2  97.533  3.4275  19.306  1049.9  545.85  111.58  10.583   \n",
       "\n",
       "           CO     NOX  \n",
       "0      3.1547  82.722  \n",
       "1      3.2363  82.776  \n",
       "2      3.2012  82.468  \n",
       "3      3.1923  82.670  \n",
       "4      3.2484  82.311  \n",
       "...       ...     ...  \n",
       "15034  4.5186  79.559  \n",
       "15035  4.8470  79.917  \n",
       "15036  7.9632  90.912  \n",
       "15037  6.2494  93.227  \n",
       "15038  4.9816  92.498  \n",
       "\n",
       "[15039 rows x 11 columns]"
      ]
     },
     "execution_count": 3,
     "metadata": {},
     "output_type": "execute_result"
    }
   ],
   "source": [
    "GT"
   ]
  },
  {
   "cell_type": "code",
   "execution_count": 4,
   "id": "d7696005",
   "metadata": {},
   "outputs": [
    {
     "data": {
      "text/plain": [
       "Index(['AT', 'AP', 'AH', 'AFDP', 'GTEP', 'TIT', 'TAT', 'TEY', 'CDP', 'CO',\n",
       "       'NOX'],\n",
       "      dtype='object')"
      ]
     },
     "execution_count": 4,
     "metadata": {},
     "output_type": "execute_result"
    }
   ],
   "source": [
    "GT.columns"
   ]
  },
  {
   "cell_type": "code",
   "execution_count": 5,
   "id": "75f31aba",
   "metadata": {},
   "outputs": [],
   "source": [
    "df=GT[['AT', 'AP', 'AH', 'AFDP', 'GTEP', 'TIT', 'TAT', 'CDP', 'CO',\n",
    "       'NOX', 'TEY']]"
   ]
  },
  {
   "cell_type": "code",
   "execution_count": 6,
   "id": "2bc61b67",
   "metadata": {},
   "outputs": [
    {
     "data": {
      "text/html": [
       "<div>\n",
       "<style scoped>\n",
       "    .dataframe tbody tr th:only-of-type {\n",
       "        vertical-align: middle;\n",
       "    }\n",
       "\n",
       "    .dataframe tbody tr th {\n",
       "        vertical-align: top;\n",
       "    }\n",
       "\n",
       "    .dataframe thead th {\n",
       "        text-align: right;\n",
       "    }\n",
       "</style>\n",
       "<table border=\"1\" class=\"dataframe\">\n",
       "  <thead>\n",
       "    <tr style=\"text-align: right;\">\n",
       "      <th></th>\n",
       "      <th>AT</th>\n",
       "      <th>AP</th>\n",
       "      <th>AH</th>\n",
       "      <th>AFDP</th>\n",
       "      <th>GTEP</th>\n",
       "      <th>TIT</th>\n",
       "      <th>TAT</th>\n",
       "      <th>CDP</th>\n",
       "      <th>CO</th>\n",
       "      <th>NOX</th>\n",
       "      <th>TEY</th>\n",
       "    </tr>\n",
       "  </thead>\n",
       "  <tbody>\n",
       "    <tr>\n",
       "      <th>0</th>\n",
       "      <td>6.8594</td>\n",
       "      <td>1007.9</td>\n",
       "      <td>96.799</td>\n",
       "      <td>3.5000</td>\n",
       "      <td>19.663</td>\n",
       "      <td>1059.2</td>\n",
       "      <td>550.00</td>\n",
       "      <td>10.605</td>\n",
       "      <td>3.1547</td>\n",
       "      <td>82.722</td>\n",
       "      <td>114.70</td>\n",
       "    </tr>\n",
       "    <tr>\n",
       "      <th>1</th>\n",
       "      <td>6.7850</td>\n",
       "      <td>1008.4</td>\n",
       "      <td>97.118</td>\n",
       "      <td>3.4998</td>\n",
       "      <td>19.728</td>\n",
       "      <td>1059.3</td>\n",
       "      <td>550.00</td>\n",
       "      <td>10.598</td>\n",
       "      <td>3.2363</td>\n",
       "      <td>82.776</td>\n",
       "      <td>114.72</td>\n",
       "    </tr>\n",
       "    <tr>\n",
       "      <th>2</th>\n",
       "      <td>6.8977</td>\n",
       "      <td>1008.8</td>\n",
       "      <td>95.939</td>\n",
       "      <td>3.4824</td>\n",
       "      <td>19.779</td>\n",
       "      <td>1059.4</td>\n",
       "      <td>549.87</td>\n",
       "      <td>10.601</td>\n",
       "      <td>3.2012</td>\n",
       "      <td>82.468</td>\n",
       "      <td>114.71</td>\n",
       "    </tr>\n",
       "    <tr>\n",
       "      <th>3</th>\n",
       "      <td>7.0569</td>\n",
       "      <td>1009.2</td>\n",
       "      <td>95.249</td>\n",
       "      <td>3.4805</td>\n",
       "      <td>19.792</td>\n",
       "      <td>1059.6</td>\n",
       "      <td>549.99</td>\n",
       "      <td>10.606</td>\n",
       "      <td>3.1923</td>\n",
       "      <td>82.670</td>\n",
       "      <td>114.72</td>\n",
       "    </tr>\n",
       "    <tr>\n",
       "      <th>4</th>\n",
       "      <td>7.3978</td>\n",
       "      <td>1009.7</td>\n",
       "      <td>95.150</td>\n",
       "      <td>3.4976</td>\n",
       "      <td>19.765</td>\n",
       "      <td>1059.7</td>\n",
       "      <td>549.98</td>\n",
       "      <td>10.612</td>\n",
       "      <td>3.2484</td>\n",
       "      <td>82.311</td>\n",
       "      <td>114.72</td>\n",
       "    </tr>\n",
       "    <tr>\n",
       "      <th>...</th>\n",
       "      <td>...</td>\n",
       "      <td>...</td>\n",
       "      <td>...</td>\n",
       "      <td>...</td>\n",
       "      <td>...</td>\n",
       "      <td>...</td>\n",
       "      <td>...</td>\n",
       "      <td>...</td>\n",
       "      <td>...</td>\n",
       "      <td>...</td>\n",
       "      <td>...</td>\n",
       "    </tr>\n",
       "    <tr>\n",
       "      <th>15034</th>\n",
       "      <td>9.0301</td>\n",
       "      <td>1005.6</td>\n",
       "      <td>98.460</td>\n",
       "      <td>3.5421</td>\n",
       "      <td>19.164</td>\n",
       "      <td>1049.7</td>\n",
       "      <td>546.21</td>\n",
       "      <td>10.400</td>\n",
       "      <td>4.5186</td>\n",
       "      <td>79.559</td>\n",
       "      <td>111.61</td>\n",
       "    </tr>\n",
       "    <tr>\n",
       "      <th>15035</th>\n",
       "      <td>7.8879</td>\n",
       "      <td>1005.9</td>\n",
       "      <td>99.093</td>\n",
       "      <td>3.5059</td>\n",
       "      <td>19.414</td>\n",
       "      <td>1046.3</td>\n",
       "      <td>543.22</td>\n",
       "      <td>10.433</td>\n",
       "      <td>4.8470</td>\n",
       "      <td>79.917</td>\n",
       "      <td>111.78</td>\n",
       "    </tr>\n",
       "    <tr>\n",
       "      <th>15036</th>\n",
       "      <td>7.2647</td>\n",
       "      <td>1006.3</td>\n",
       "      <td>99.496</td>\n",
       "      <td>3.4770</td>\n",
       "      <td>19.530</td>\n",
       "      <td>1037.7</td>\n",
       "      <td>537.32</td>\n",
       "      <td>10.483</td>\n",
       "      <td>7.9632</td>\n",
       "      <td>90.912</td>\n",
       "      <td>110.19</td>\n",
       "    </tr>\n",
       "    <tr>\n",
       "      <th>15037</th>\n",
       "      <td>7.0060</td>\n",
       "      <td>1006.8</td>\n",
       "      <td>99.008</td>\n",
       "      <td>3.4486</td>\n",
       "      <td>19.377</td>\n",
       "      <td>1043.2</td>\n",
       "      <td>541.24</td>\n",
       "      <td>10.533</td>\n",
       "      <td>6.2494</td>\n",
       "      <td>93.227</td>\n",
       "      <td>110.74</td>\n",
       "    </tr>\n",
       "    <tr>\n",
       "      <th>15038</th>\n",
       "      <td>6.9279</td>\n",
       "      <td>1007.2</td>\n",
       "      <td>97.533</td>\n",
       "      <td>3.4275</td>\n",
       "      <td>19.306</td>\n",
       "      <td>1049.9</td>\n",
       "      <td>545.85</td>\n",
       "      <td>10.583</td>\n",
       "      <td>4.9816</td>\n",
       "      <td>92.498</td>\n",
       "      <td>111.58</td>\n",
       "    </tr>\n",
       "  </tbody>\n",
       "</table>\n",
       "<p>15039 rows × 11 columns</p>\n",
       "</div>"
      ],
      "text/plain": [
       "           AT      AP      AH    AFDP    GTEP     TIT     TAT     CDP      CO  \\\n",
       "0      6.8594  1007.9  96.799  3.5000  19.663  1059.2  550.00  10.605  3.1547   \n",
       "1      6.7850  1008.4  97.118  3.4998  19.728  1059.3  550.00  10.598  3.2363   \n",
       "2      6.8977  1008.8  95.939  3.4824  19.779  1059.4  549.87  10.601  3.2012   \n",
       "3      7.0569  1009.2  95.249  3.4805  19.792  1059.6  549.99  10.606  3.1923   \n",
       "4      7.3978  1009.7  95.150  3.4976  19.765  1059.7  549.98  10.612  3.2484   \n",
       "...       ...     ...     ...     ...     ...     ...     ...     ...     ...   \n",
       "15034  9.0301  1005.6  98.460  3.5421  19.164  1049.7  546.21  10.400  4.5186   \n",
       "15035  7.8879  1005.9  99.093  3.5059  19.414  1046.3  543.22  10.433  4.8470   \n",
       "15036  7.2647  1006.3  99.496  3.4770  19.530  1037.7  537.32  10.483  7.9632   \n",
       "15037  7.0060  1006.8  99.008  3.4486  19.377  1043.2  541.24  10.533  6.2494   \n",
       "15038  6.9279  1007.2  97.533  3.4275  19.306  1049.9  545.85  10.583  4.9816   \n",
       "\n",
       "          NOX     TEY  \n",
       "0      82.722  114.70  \n",
       "1      82.776  114.72  \n",
       "2      82.468  114.71  \n",
       "3      82.670  114.72  \n",
       "4      82.311  114.72  \n",
       "...       ...     ...  \n",
       "15034  79.559  111.61  \n",
       "15035  79.917  111.78  \n",
       "15036  90.912  110.19  \n",
       "15037  93.227  110.74  \n",
       "15038  92.498  111.58  \n",
       "\n",
       "[15039 rows x 11 columns]"
      ]
     },
     "execution_count": 6,
     "metadata": {},
     "output_type": "execute_result"
    }
   ],
   "source": [
    "df"
   ]
  },
  {
   "cell_type": "code",
   "execution_count": 7,
   "id": "7c31b808",
   "metadata": {},
   "outputs": [],
   "source": [
    "X=df.iloc[:,0:-1]\n",
    "Y=df.iloc[:,-1]"
   ]
  },
  {
   "cell_type": "code",
   "execution_count": 8,
   "id": "c16bf9f4",
   "metadata": {},
   "outputs": [
    {
     "data": {
      "text/html": [
       "<div>\n",
       "<style scoped>\n",
       "    .dataframe tbody tr th:only-of-type {\n",
       "        vertical-align: middle;\n",
       "    }\n",
       "\n",
       "    .dataframe tbody tr th {\n",
       "        vertical-align: top;\n",
       "    }\n",
       "\n",
       "    .dataframe thead th {\n",
       "        text-align: right;\n",
       "    }\n",
       "</style>\n",
       "<table border=\"1\" class=\"dataframe\">\n",
       "  <thead>\n",
       "    <tr style=\"text-align: right;\">\n",
       "      <th></th>\n",
       "      <th>AT</th>\n",
       "      <th>AP</th>\n",
       "      <th>AH</th>\n",
       "      <th>AFDP</th>\n",
       "      <th>GTEP</th>\n",
       "      <th>TIT</th>\n",
       "      <th>TAT</th>\n",
       "      <th>CDP</th>\n",
       "      <th>CO</th>\n",
       "      <th>NOX</th>\n",
       "    </tr>\n",
       "  </thead>\n",
       "  <tbody>\n",
       "    <tr>\n",
       "      <th>0</th>\n",
       "      <td>6.8594</td>\n",
       "      <td>1007.9</td>\n",
       "      <td>96.799</td>\n",
       "      <td>3.5000</td>\n",
       "      <td>19.663</td>\n",
       "      <td>1059.2</td>\n",
       "      <td>550.00</td>\n",
       "      <td>10.605</td>\n",
       "      <td>3.1547</td>\n",
       "      <td>82.722</td>\n",
       "    </tr>\n",
       "    <tr>\n",
       "      <th>1</th>\n",
       "      <td>6.7850</td>\n",
       "      <td>1008.4</td>\n",
       "      <td>97.118</td>\n",
       "      <td>3.4998</td>\n",
       "      <td>19.728</td>\n",
       "      <td>1059.3</td>\n",
       "      <td>550.00</td>\n",
       "      <td>10.598</td>\n",
       "      <td>3.2363</td>\n",
       "      <td>82.776</td>\n",
       "    </tr>\n",
       "    <tr>\n",
       "      <th>2</th>\n",
       "      <td>6.8977</td>\n",
       "      <td>1008.8</td>\n",
       "      <td>95.939</td>\n",
       "      <td>3.4824</td>\n",
       "      <td>19.779</td>\n",
       "      <td>1059.4</td>\n",
       "      <td>549.87</td>\n",
       "      <td>10.601</td>\n",
       "      <td>3.2012</td>\n",
       "      <td>82.468</td>\n",
       "    </tr>\n",
       "    <tr>\n",
       "      <th>3</th>\n",
       "      <td>7.0569</td>\n",
       "      <td>1009.2</td>\n",
       "      <td>95.249</td>\n",
       "      <td>3.4805</td>\n",
       "      <td>19.792</td>\n",
       "      <td>1059.6</td>\n",
       "      <td>549.99</td>\n",
       "      <td>10.606</td>\n",
       "      <td>3.1923</td>\n",
       "      <td>82.670</td>\n",
       "    </tr>\n",
       "    <tr>\n",
       "      <th>4</th>\n",
       "      <td>7.3978</td>\n",
       "      <td>1009.7</td>\n",
       "      <td>95.150</td>\n",
       "      <td>3.4976</td>\n",
       "      <td>19.765</td>\n",
       "      <td>1059.7</td>\n",
       "      <td>549.98</td>\n",
       "      <td>10.612</td>\n",
       "      <td>3.2484</td>\n",
       "      <td>82.311</td>\n",
       "    </tr>\n",
       "    <tr>\n",
       "      <th>...</th>\n",
       "      <td>...</td>\n",
       "      <td>...</td>\n",
       "      <td>...</td>\n",
       "      <td>...</td>\n",
       "      <td>...</td>\n",
       "      <td>...</td>\n",
       "      <td>...</td>\n",
       "      <td>...</td>\n",
       "      <td>...</td>\n",
       "      <td>...</td>\n",
       "    </tr>\n",
       "    <tr>\n",
       "      <th>15034</th>\n",
       "      <td>9.0301</td>\n",
       "      <td>1005.6</td>\n",
       "      <td>98.460</td>\n",
       "      <td>3.5421</td>\n",
       "      <td>19.164</td>\n",
       "      <td>1049.7</td>\n",
       "      <td>546.21</td>\n",
       "      <td>10.400</td>\n",
       "      <td>4.5186</td>\n",
       "      <td>79.559</td>\n",
       "    </tr>\n",
       "    <tr>\n",
       "      <th>15035</th>\n",
       "      <td>7.8879</td>\n",
       "      <td>1005.9</td>\n",
       "      <td>99.093</td>\n",
       "      <td>3.5059</td>\n",
       "      <td>19.414</td>\n",
       "      <td>1046.3</td>\n",
       "      <td>543.22</td>\n",
       "      <td>10.433</td>\n",
       "      <td>4.8470</td>\n",
       "      <td>79.917</td>\n",
       "    </tr>\n",
       "    <tr>\n",
       "      <th>15036</th>\n",
       "      <td>7.2647</td>\n",
       "      <td>1006.3</td>\n",
       "      <td>99.496</td>\n",
       "      <td>3.4770</td>\n",
       "      <td>19.530</td>\n",
       "      <td>1037.7</td>\n",
       "      <td>537.32</td>\n",
       "      <td>10.483</td>\n",
       "      <td>7.9632</td>\n",
       "      <td>90.912</td>\n",
       "    </tr>\n",
       "    <tr>\n",
       "      <th>15037</th>\n",
       "      <td>7.0060</td>\n",
       "      <td>1006.8</td>\n",
       "      <td>99.008</td>\n",
       "      <td>3.4486</td>\n",
       "      <td>19.377</td>\n",
       "      <td>1043.2</td>\n",
       "      <td>541.24</td>\n",
       "      <td>10.533</td>\n",
       "      <td>6.2494</td>\n",
       "      <td>93.227</td>\n",
       "    </tr>\n",
       "    <tr>\n",
       "      <th>15038</th>\n",
       "      <td>6.9279</td>\n",
       "      <td>1007.2</td>\n",
       "      <td>97.533</td>\n",
       "      <td>3.4275</td>\n",
       "      <td>19.306</td>\n",
       "      <td>1049.9</td>\n",
       "      <td>545.85</td>\n",
       "      <td>10.583</td>\n",
       "      <td>4.9816</td>\n",
       "      <td>92.498</td>\n",
       "    </tr>\n",
       "  </tbody>\n",
       "</table>\n",
       "<p>15039 rows × 10 columns</p>\n",
       "</div>"
      ],
      "text/plain": [
       "           AT      AP      AH    AFDP    GTEP     TIT     TAT     CDP      CO  \\\n",
       "0      6.8594  1007.9  96.799  3.5000  19.663  1059.2  550.00  10.605  3.1547   \n",
       "1      6.7850  1008.4  97.118  3.4998  19.728  1059.3  550.00  10.598  3.2363   \n",
       "2      6.8977  1008.8  95.939  3.4824  19.779  1059.4  549.87  10.601  3.2012   \n",
       "3      7.0569  1009.2  95.249  3.4805  19.792  1059.6  549.99  10.606  3.1923   \n",
       "4      7.3978  1009.7  95.150  3.4976  19.765  1059.7  549.98  10.612  3.2484   \n",
       "...       ...     ...     ...     ...     ...     ...     ...     ...     ...   \n",
       "15034  9.0301  1005.6  98.460  3.5421  19.164  1049.7  546.21  10.400  4.5186   \n",
       "15035  7.8879  1005.9  99.093  3.5059  19.414  1046.3  543.22  10.433  4.8470   \n",
       "15036  7.2647  1006.3  99.496  3.4770  19.530  1037.7  537.32  10.483  7.9632   \n",
       "15037  7.0060  1006.8  99.008  3.4486  19.377  1043.2  541.24  10.533  6.2494   \n",
       "15038  6.9279  1007.2  97.533  3.4275  19.306  1049.9  545.85  10.583  4.9816   \n",
       "\n",
       "          NOX  \n",
       "0      82.722  \n",
       "1      82.776  \n",
       "2      82.468  \n",
       "3      82.670  \n",
       "4      82.311  \n",
       "...       ...  \n",
       "15034  79.559  \n",
       "15035  79.917  \n",
       "15036  90.912  \n",
       "15037  93.227  \n",
       "15038  92.498  \n",
       "\n",
       "[15039 rows x 10 columns]"
      ]
     },
     "execution_count": 8,
     "metadata": {},
     "output_type": "execute_result"
    }
   ],
   "source": [
    "X"
   ]
  },
  {
   "cell_type": "code",
   "execution_count": 9,
   "id": "4bad4055",
   "metadata": {},
   "outputs": [
    {
     "data": {
      "text/plain": [
       "0        114.70\n",
       "1        114.72\n",
       "2        114.71\n",
       "3        114.72\n",
       "4        114.72\n",
       "          ...  \n",
       "15034    111.61\n",
       "15035    111.78\n",
       "15036    110.19\n",
       "15037    110.74\n",
       "15038    111.58\n",
       "Name: TEY, Length: 15039, dtype: float64"
      ]
     },
     "execution_count": 9,
     "metadata": {},
     "output_type": "execute_result"
    }
   ],
   "source": [
    "Y"
   ]
  },
  {
   "cell_type": "code",
   "execution_count": 10,
   "id": "da1b51d3",
   "metadata": {},
   "outputs": [
    {
     "data": {
      "text/plain": [
       "(15039, 11)"
      ]
     },
     "execution_count": 10,
     "metadata": {},
     "output_type": "execute_result"
    }
   ],
   "source": [
    "df.shape"
   ]
  },
  {
   "cell_type": "code",
   "execution_count": 11,
   "id": "083551c8",
   "metadata": {},
   "outputs": [
    {
     "data": {
      "text/plain": [
       "(15039, 10)"
      ]
     },
     "execution_count": 11,
     "metadata": {},
     "output_type": "execute_result"
    }
   ],
   "source": [
    "X.shape"
   ]
  },
  {
   "cell_type": "code",
   "execution_count": 12,
   "id": "74a0239c",
   "metadata": {},
   "outputs": [
    {
     "data": {
      "text/plain": [
       "(15039,)"
      ]
     },
     "execution_count": 12,
     "metadata": {},
     "output_type": "execute_result"
    }
   ],
   "source": [
    "Y.shape"
   ]
  },
  {
   "cell_type": "code",
   "execution_count": 13,
   "id": "77b2774b",
   "metadata": {},
   "outputs": [],
   "source": [
    "from sklearn.model_selection import train_test_split"
   ]
  },
  {
   "cell_type": "code",
   "execution_count": 14,
   "id": "c8a06632",
   "metadata": {},
   "outputs": [],
   "source": [
    "x_train,x_test,y_train,y_test=train_test_split(X,Y,test_size=0.2,random_state=10)"
   ]
  },
  {
   "cell_type": "code",
   "execution_count": 15,
   "id": "baa8ec87",
   "metadata": {},
   "outputs": [
    {
     "data": {
      "text/plain": [
       "(12031, 10)"
      ]
     },
     "execution_count": 15,
     "metadata": {},
     "output_type": "execute_result"
    }
   ],
   "source": [
    "x_train.shape"
   ]
  },
  {
   "cell_type": "code",
   "execution_count": 16,
   "id": "52f135a7",
   "metadata": {},
   "outputs": [
    {
     "data": {
      "text/plain": [
       "(12031,)"
      ]
     },
     "execution_count": 16,
     "metadata": {},
     "output_type": "execute_result"
    }
   ],
   "source": [
    "y_train.shape"
   ]
  },
  {
   "cell_type": "markdown",
   "id": "a81f7009",
   "metadata": {},
   "source": [
    "# Creating Model"
   ]
  },
  {
   "cell_type": "code",
   "execution_count": 17,
   "id": "b6627383",
   "metadata": {},
   "outputs": [],
   "source": [
    "model=tf.keras.models.Sequential()\n",
    "model.add(tf.keras.layers.Dense(15,input_dim=10,activation='ReLU'))\n",
    "model.add(tf.keras.layers.Dense(10,activation='ReLU'))\n",
    "model.add(tf.keras.layers.Dense(1, activation='ReLU'))"
   ]
  },
  {
   "cell_type": "code",
   "execution_count": 18,
   "id": "6269956e",
   "metadata": {},
   "outputs": [
    {
     "name": "stdout",
     "output_type": "stream",
     "text": [
      "Model: \"sequential\"\n",
      "_________________________________________________________________\n",
      " Layer (type)                Output Shape              Param #   \n",
      "=================================================================\n",
      " dense (Dense)               (None, 15)                165       \n",
      "                                                                 \n",
      " dense_1 (Dense)             (None, 10)                160       \n",
      "                                                                 \n",
      " dense_2 (Dense)             (None, 1)                 11        \n",
      "                                                                 \n",
      "=================================================================\n",
      "Total params: 336\n",
      "Trainable params: 336\n",
      "Non-trainable params: 0\n",
      "_________________________________________________________________\n"
     ]
    }
   ],
   "source": [
    "model.summary()"
   ]
  },
  {
   "cell_type": "code",
   "execution_count": 19,
   "id": "f0443f21",
   "metadata": {},
   "outputs": [],
   "source": [
    "# Compile model\n",
    "model.compile(loss ='mse', optimizer='adam', metrics=['mse','mae'])"
   ]
  },
  {
   "cell_type": "code",
   "execution_count": 20,
   "id": "8c22b578",
   "metadata": {},
   "outputs": [
    {
     "name": "stdout",
     "output_type": "stream",
     "text": [
      "Epoch 1/50\n",
      "13/13 [==============================] - 8s 164ms/step - loss: 4707.8403 - mse: 4707.8403 - mae: 55.4290 - val_loss: 969.2721 - val_mse: 969.2721 - val_mae: 27.3711\n",
      "Epoch 2/50\n",
      "13/13 [==============================] - 0s 37ms/step - loss: 1176.5729 - mse: 1176.5729 - mae: 30.5570 - val_loss: 292.7612 - val_mse: 292.7612 - val_mae: 14.3554\n",
      "Epoch 3/50\n",
      "13/13 [==============================] - 0s 27ms/step - loss: 326.0859 - mse: 326.0859 - mae: 14.7186 - val_loss: 343.8190 - val_mse: 343.8190 - val_mae: 15.5184\n",
      "Epoch 4/50\n",
      "13/13 [==============================] - 0s 21ms/step - loss: 252.4506 - mse: 252.4506 - mae: 12.5560 - val_loss: 260.0351 - val_mse: 260.0351 - val_mae: 13.2715\n",
      "Epoch 5/50\n",
      "13/13 [==============================] - 0s 31ms/step - loss: 228.4725 - mse: 228.4725 - mae: 11.8003 - val_loss: 221.6287 - val_mse: 221.6287 - val_mae: 11.4116\n",
      "Epoch 6/50\n",
      "13/13 [==============================] - 0s 24ms/step - loss: 218.6686 - mse: 218.6686 - mae: 11.1647 - val_loss: 216.6785 - val_mse: 216.6785 - val_mae: 11.1582\n",
      "Epoch 7/50\n",
      "13/13 [==============================] - 0s 33ms/step - loss: 212.5886 - mse: 212.5886 - mae: 10.9705 - val_loss: 213.5823 - val_mse: 213.5823 - val_mae: 11.0503\n",
      "Epoch 8/50\n",
      "13/13 [==============================] - 0s 22ms/step - loss: 209.9554 - mse: 209.9554 - mae: 10.8589 - val_loss: 211.6132 - val_mse: 211.6132 - val_mae: 11.0031\n",
      "Epoch 9/50\n",
      "13/13 [==============================] - 0s 20ms/step - loss: 207.8249 - mse: 207.8249 - mae: 10.8031 - val_loss: 209.4374 - val_mse: 209.4374 - val_mae: 10.9472\n",
      "Epoch 10/50\n",
      "13/13 [==============================] - 0s 26ms/step - loss: 205.5799 - mse: 205.5799 - mae: 10.7380 - val_loss: 207.4329 - val_mse: 207.4329 - val_mae: 10.9049\n",
      "Epoch 11/50\n",
      "13/13 [==============================] - 0s 25ms/step - loss: 203.6547 - mse: 203.6547 - mae: 10.7169 - val_loss: 204.7778 - val_mse: 204.7778 - val_mae: 10.8286\n",
      "Epoch 12/50\n",
      "13/13 [==============================] - 0s 21ms/step - loss: 201.6155 - mse: 201.6155 - mae: 10.6268 - val_loss: 203.3609 - val_mse: 203.3609 - val_mae: 10.8263\n",
      "Epoch 13/50\n",
      "13/13 [==============================] - 0s 22ms/step - loss: 198.8395 - mse: 198.8395 - mae: 10.6016 - val_loss: 199.9898 - val_mse: 199.9898 - val_mae: 10.7057\n",
      "Epoch 14/50\n",
      "13/13 [==============================] - 0s 28ms/step - loss: 196.2889 - mse: 196.2889 - mae: 10.4928 - val_loss: 198.3977 - val_mse: 198.3977 - val_mae: 10.7039\n",
      "Epoch 15/50\n",
      "13/13 [==============================] - 0s 23ms/step - loss: 194.3271 - mse: 194.3271 - mae: 10.4995 - val_loss: 194.9258 - val_mse: 194.9258 - val_mae: 10.5758\n",
      "Epoch 16/50\n",
      "13/13 [==============================] - 0s 24ms/step - loss: 191.1029 - mse: 191.1029 - mae: 10.3725 - val_loss: 193.3681 - val_mse: 193.3681 - val_mae: 10.5853\n",
      "Epoch 17/50\n",
      "13/13 [==============================] - 0s 21ms/step - loss: 188.8409 - mse: 188.8409 - mae: 10.3742 - val_loss: 189.5945 - val_mse: 189.5945 - val_mae: 10.4370\n",
      "Epoch 18/50\n",
      "13/13 [==============================] - 0s 21ms/step - loss: 186.0995 - mse: 186.0995 - mae: 10.2671 - val_loss: 187.0803 - val_mse: 187.0803 - val_mae: 10.3901\n",
      "Epoch 19/50\n",
      "13/13 [==============================] - 0s 21ms/step - loss: 183.0855 - mse: 183.0855 - mae: 10.1871 - val_loss: 184.0223 - val_mse: 184.0223 - val_mae: 10.2979\n",
      "Epoch 20/50\n",
      "13/13 [==============================] - 0s 18ms/step - loss: 180.1711 - mse: 180.1711 - mae: 10.1087 - val_loss: 181.7353 - val_mse: 181.7353 - val_mae: 10.2733\n",
      "Epoch 21/50\n",
      "13/13 [==============================] - 0s 25ms/step - loss: 177.4127 - mse: 177.4127 - mae: 10.0663 - val_loss: 178.1630 - val_mse: 178.1630 - val_mae: 10.1371\n",
      "Epoch 22/50\n",
      "13/13 [==============================] - 0s 22ms/step - loss: 174.4125 - mse: 174.4125 - mae: 9.9453 - val_loss: 175.3399 - val_mse: 175.3399 - val_mae: 10.0767\n",
      "Epoch 23/50\n",
      "13/13 [==============================] - 0s 24ms/step - loss: 171.4635 - mse: 171.4635 - mae: 9.8701 - val_loss: 172.3162 - val_mse: 172.3162 - val_mae: 9.9966\n",
      "Epoch 24/50\n",
      "13/13 [==============================] - 0s 22ms/step - loss: 168.4622 - mse: 168.4622 - mae: 9.7982 - val_loss: 169.1743 - val_mse: 169.1743 - val_mae: 9.8941\n",
      "Epoch 25/50\n",
      "13/13 [==============================] - 0s 21ms/step - loss: 165.9262 - mse: 165.9262 - mae: 9.7192 - val_loss: 166.5777 - val_mse: 166.5777 - val_mae: 9.8727\n",
      "Epoch 26/50\n",
      "13/13 [==============================] - 0s 22ms/step - loss: 162.6243 - mse: 162.6243 - mae: 9.6329 - val_loss: 162.9464 - val_mse: 162.9464 - val_mae: 9.7367\n",
      "Epoch 27/50\n",
      "13/13 [==============================] - 0s 22ms/step - loss: 159.4061 - mse: 159.4061 - mae: 9.5405 - val_loss: 160.2491 - val_mse: 160.2491 - val_mae: 9.6998\n",
      "Epoch 28/50\n",
      "13/13 [==============================] - 0s 22ms/step - loss: 156.0818 - mse: 156.0818 - mae: 9.4774 - val_loss: 156.6033 - val_mse: 156.6033 - val_mae: 9.5669\n",
      "Epoch 29/50\n",
      "13/13 [==============================] - 0s 22ms/step - loss: 153.1805 - mse: 153.1805 - mae: 9.4247 - val_loss: 153.3692 - val_mse: 153.3692 - val_mae: 9.4607\n",
      "Epoch 30/50\n",
      "13/13 [==============================] - 0s 26ms/step - loss: 149.7922 - mse: 149.7922 - mae: 9.3026 - val_loss: 150.1415 - val_mse: 150.1415 - val_mae: 9.3835\n",
      "Epoch 31/50\n",
      "13/13 [==============================] - 0s 20ms/step - loss: 146.5769 - mse: 146.5769 - mae: 9.2153 - val_loss: 146.8394 - val_mse: 146.8394 - val_mae: 9.2841\n",
      "Epoch 32/50\n",
      "13/13 [==============================] - 0s 25ms/step - loss: 143.4404 - mse: 143.4404 - mae: 9.1033 - val_loss: 143.8628 - val_mse: 143.8628 - val_mae: 9.2386\n",
      "Epoch 33/50\n",
      "13/13 [==============================] - 0s 22ms/step - loss: 139.9412 - mse: 139.9412 - mae: 9.0171 - val_loss: 141.0181 - val_mse: 141.0181 - val_mae: 9.1890\n",
      "Epoch 34/50\n",
      "13/13 [==============================] - 0s 25ms/step - loss: 137.7805 - mse: 137.7805 - mae: 9.0285 - val_loss: 137.0128 - val_mse: 137.0128 - val_mae: 8.9681\n",
      "Epoch 35/50\n",
      "13/13 [==============================] - 0s 23ms/step - loss: 133.4729 - mse: 133.4729 - mae: 8.8564 - val_loss: 133.3991 - val_mse: 133.3991 - val_mae: 8.8656\n",
      "Epoch 36/50\n",
      "13/13 [==============================] - 0s 18ms/step - loss: 130.4340 - mse: 130.4340 - mae: 8.7462 - val_loss: 129.9241 - val_mse: 129.9241 - val_mae: 8.7943\n",
      "Epoch 37/50\n",
      "13/13 [==============================] - 0s 28ms/step - loss: 126.7159 - mse: 126.7159 - mae: 8.6335 - val_loss: 127.2308 - val_mse: 127.2308 - val_mae: 8.7675\n",
      "Epoch 38/50\n",
      "13/13 [==============================] - 0s 20ms/step - loss: 123.3268 - mse: 123.3268 - mae: 8.5514 - val_loss: 123.1179 - val_mse: 123.1179 - val_mae: 8.5964\n",
      "Epoch 39/50\n",
      "13/13 [==============================] - 0s 29ms/step - loss: 119.8238 - mse: 119.8238 - mae: 8.4400 - val_loss: 119.4527 - val_mse: 119.4527 - val_mae: 8.4321\n",
      "Epoch 40/50\n",
      "13/13 [==============================] - 0s 25ms/step - loss: 116.8032 - mse: 116.8032 - mae: 8.3445 - val_loss: 115.7764 - val_mse: 115.7764 - val_mae: 8.3204\n",
      "Epoch 41/50\n",
      "13/13 [==============================] - 0s 27ms/step - loss: 113.2679 - mse: 113.2679 - mae: 8.2049 - val_loss: 112.3778 - val_mse: 112.3778 - val_mae: 8.1990\n",
      "Epoch 42/50\n",
      "13/13 [==============================] - 0s 22ms/step - loss: 109.5463 - mse: 109.5463 - mae: 8.0781 - val_loss: 108.7527 - val_mse: 108.7527 - val_mae: 8.0978\n",
      "Epoch 43/50\n",
      "13/13 [==============================] - 0s 21ms/step - loss: 106.0179 - mse: 106.0179 - mae: 7.9679 - val_loss: 105.4605 - val_mse: 105.4605 - val_mae: 8.0143\n",
      "Epoch 44/50\n",
      "13/13 [==============================] - 0s 25ms/step - loss: 102.4093 - mse: 102.4093 - mae: 7.8455 - val_loss: 101.6315 - val_mse: 101.6315 - val_mae: 7.8502\n",
      "Epoch 45/50\n",
      "13/13 [==============================] - 0s 24ms/step - loss: 99.1483 - mse: 99.1483 - mae: 7.7402 - val_loss: 99.1972 - val_mse: 99.1972 - val_mae: 7.8364\n",
      "Epoch 46/50\n",
      "13/13 [==============================] - 0s 20ms/step - loss: 97.7320 - mse: 97.7320 - mae: 7.7419 - val_loss: 95.9237 - val_mse: 95.9237 - val_mae: 7.7292\n",
      "Epoch 47/50\n",
      "13/13 [==============================] - 0s 24ms/step - loss: 94.0115 - mse: 94.0115 - mae: 7.6000 - val_loss: 91.8466 - val_mse: 91.8466 - val_mae: 7.5433\n",
      "Epoch 48/50\n",
      "13/13 [==============================] - 0s 19ms/step - loss: 89.6352 - mse: 89.6352 - mae: 7.4065 - val_loss: 89.3355 - val_mse: 89.3355 - val_mae: 7.4823\n",
      "Epoch 49/50\n",
      "13/13 [==============================] - 0s 22ms/step - loss: 86.4503 - mse: 86.4503 - mae: 7.2808 - val_loss: 86.5757 - val_mse: 86.5757 - val_mae: 7.3943\n",
      "Epoch 50/50\n",
      "13/13 [==============================] - 0s 24ms/step - loss: 83.4254 - mse: 83.4254 - mae: 7.1554 - val_loss: 83.0393 - val_mse: 83.0393 - val_mae: 7.2421\n"
     ]
    }
   ],
   "source": [
    "#Fit the model\n",
    "history=model.fit(x_train, y_train, validation_data=(x_test,y_test),epochs =50, batch_size=1000)"
   ]
  },
  {
   "cell_type": "code",
   "execution_count": 21,
   "id": "c23f658f",
   "metadata": {},
   "outputs": [],
   "source": [
    "model.save_weights(\"mywt.kmw\")"
   ]
  },
  {
   "cell_type": "markdown",
   "id": "fef6da80",
   "metadata": {},
   "source": [
    "# Evaluate The Model\n"
   ]
  },
  {
   "cell_type": "code",
   "execution_count": 24,
   "id": "e1331742",
   "metadata": {},
   "outputs": [
    {
     "name": "stdout",
     "output_type": "stream",
     "text": [
      "376/376 [==============================] - 2s 4ms/step - loss: 81.8367 - mse: 81.8367 - mae: 7.1785\n",
      "mse: 8183.67%\n"
     ]
    }
   ],
   "source": [
    "scores = model.evaluate(x_train,y_train)\n",
    "print(\"%s: %.2f%%\" % (model.metrics_names[1], scores[1]*100))"
   ]
  },
  {
   "cell_type": "markdown",
   "id": "265eafd2",
   "metadata": {},
   "source": [
    "# Visualize Training History\n"
   ]
  },
  {
   "cell_type": "code",
   "execution_count": 25,
   "id": "c4ade3f6",
   "metadata": {},
   "outputs": [],
   "source": [
    "\n",
    "# list all data in history\n",
    "model.history.history.keys()\n",
    "import matplotlib.pyplot as plt"
   ]
  },
  {
   "cell_type": "code",
   "execution_count": 26,
   "id": "3e127fdd",
   "metadata": {},
   "outputs": [
    {
     "data": {
      "text/plain": [
       "dict_keys(['loss', 'mse', 'mae', 'val_loss', 'val_mse', 'val_mae'])"
      ]
     },
     "execution_count": 26,
     "metadata": {},
     "output_type": "execute_result"
    }
   ],
   "source": [
    "history.history.keys()"
   ]
  },
  {
   "cell_type": "code",
   "execution_count": 27,
   "id": "655d6046",
   "metadata": {},
   "outputs": [
    {
     "data": {
      "image/png": "[encoded data removed]",
      "text/plain": [
       "<Figure size 640x480 with 1 Axes>"
      ]
     },
     "metadata": {},
     "output_type": "display_data"
    },
    {
     "data": {
      "image/png": "[encoded data removed]",
      "text/plain": [
       "<Figure size 640x480 with 1 Axes>"
      ]
     },
     "metadata": {},
     "output_type": "display_data"
    }
   ],
   "source": [
    "# summarize history for accuracy\n",
    "plt.plot(history.history['mse'])\n",
    "plt.plot(history.history['val_mse'])\n",
    "plt.title('model mse')\n",
    "plt.ylabel('mse')\n",
    "plt.xlabel('epoch')\n",
    "plt.legend(['train', 'test'], loc='upper left')\n",
    "plt.show()\n",
    "plt.plot(history.history['mae'])\n",
    "plt.plot(history.history['val_mae'])\n",
    "plt.title('model mae')\n",
    "plt.ylabel('mae')\n",
    "plt.xlabel('epoch')\n",
    "plt.legend(['train', 'test'], loc='upper left')\n",
    "plt.show()"
   ]
  },
  {
   "cell_type": "markdown",
   "id": "b14f4fe2",
   "metadata": {},
   "source": [
    "# Summarize History For Loss\n"
   ]
  },
  {
   "cell_type": "code",
   "execution_count": 28,
   "id": "fbc6fb9e",
   "metadata": {},
   "outputs": [
    {
     "data": {
      "image/png": "[encoded data removed]",
      "text/plain": [
       "<Figure size 640x480 with 1 Axes>"
      ]
     },
     "metadata": {},
     "output_type": "display_data"
    }
   ],
   "source": [
    "plt.plot(history.history['loss'])\n",
    "plt.plot(history.history['val_loss'])\n",
    "plt.title('model loss')\n",
    "plt.ylabel('loss')\n",
    "plt.xlabel('epoch')\n",
    "plt.legend(['train', 'test'], loc='upper left')\n",
    "plt.show()"
   ]
  },
  {
   "cell_type": "markdown",
   "id": "8d2750b0",
   "metadata": {},
   "source": [
    "# Evaluate The Model\n"
   ]
  },
  {
   "cell_type": "code",
   "execution_count": 29,
   "id": "7344756b",
   "metadata": {},
   "outputs": [
    {
     "name": "stdout",
     "output_type": "stream",
     "text": [
      "376/376 [==============================] - 3s 5ms/step\n",
      "94/94 [==============================] - 1s 6ms/step\n",
      "Training set rmse: 9.046, Testing set rmse: 9.113\n"
     ]
    }
   ],
   "source": [
    "y_train_pred= model.predict(x_train)\n",
    "y_test_pred= model.predict(x_test)\n",
    "\n",
    "from sklearn.metrics import mean_squared_error\n",
    "\n",
    "train_rmse = mean_squared_error(y_train,y_train_pred,squared=False)\n",
    "test_rmse = mean_squared_error(y_test, y_test_pred,squared=False)\n",
    "\n",
    "print('Training set rmse: %.3f, Testing set rmse: %.3f' % (train_rmse, test_rmse))"
   ]
  },
  {
   "cell_type": "markdown",
   "id": "5091d388",
   "metadata": {},
   "source": [
    "# Randomized SearchCV"
   ]
  },
  {
   "cell_type": "code",
   "execution_count": 30,
   "id": "e1a8167a",
   "metadata": {},
   "outputs": [],
   "source": [
    "from sklearn.model_selection import RandomizedSearchCV, KFold\n",
    "from keras.optimizers import Adam\n",
    "from keras.wrappers.scikit_learn import KerasRegressor"
   ]
  },
  {
   "cell_type": "code",
   "execution_count": 31,
   "id": "270e90ad",
   "metadata": {},
   "outputs": [],
   "source": [
    "# Building a keras regression model\n",
    "\n",
    "def keras_reg_model(learning_rate,activation_function,init,neuron1,neuron2):\n",
    "    model = tf.keras.models.Sequential()\n",
    "    model.add(tf.keras.layers.Dense(neuron1,input_dim = 10,kernel_initializer = init,activation = activation_function))\n",
    "    model.add(tf.keras.layers.Dense(neuron2,input_dim = neuron1,kernel_initializer = init,activation = activation_function))\n",
    "    model.add(tf.keras.layers.Dense(1,activation = 'linear'))\n",
    "    adam = Adam(lr = learning_rate)\n",
    "    model.compile(loss = 'mse',optimizer = adam,metrics = ['mse','mae'])\n",
    "    return model"
   ]
  },
  {
   "cell_type": "markdown",
   "id": "380593bb",
   "metadata": {},
   "source": [
    "# Wrapping The Keras Model In a Object\n"
   ]
  },
  {
   "cell_type": "code",
   "execution_count": 32,
   "id": "29623e2c",
   "metadata": {},
   "outputs": [],
   "source": [
    "\n",
    "keras_reg = KerasRegressor(build_fn = keras_reg_model,verbose = 0)"
   ]
  },
  {
   "cell_type": "code",
   "execution_count": 33,
   "id": "ffbd1f3f",
   "metadata": {},
   "outputs": [
    {
     "name": "stdout",
     "output_type": "stream",
     "text": [
      "Fitting 5 folds for each of 10 candidates, totalling 50 fits\n"
     ]
    }
   ],
   "source": [
    "# Define the search parameters\n",
    "\n",
    "batch_size = [10,50,100,500,1000,2000]\n",
    "epochs = [25,50,80,100,150]\n",
    "learning_rate = [0.001,0.01,0.1]\n",
    "\n",
    "activation_function = ['elu','relu','linear']\n",
    "init = ['uniform','normal','zero']\n",
    "neuron1 = [5,10,20,30]\n",
    "neuron2 = [5,10,20,30]\n",
    "\n",
    "\n",
    "# Create a dictionary of the parameters\n",
    "param_grids = dict(batch_size = batch_size,epochs = epochs,learning_rate = learning_rate,\n",
    "                   activation_function = activation_function,init = init,neuron1 = neuron1,neuron2 = neuron2)\n",
    "\n",
    "\n",
    "# Build and fit the RandomizedSearchCV\n",
    "random_search = RandomizedSearchCV(estimator = keras_reg,param_distributions = param_grids,cv = 5,n_jobs=-1,verbose = 10,\n",
    "                                   random_state=40)\n",
    "random_result = random_search.fit(x_train,y_train)\n",
    "\n"
   ]
  },
  {
   "cell_type": "markdown",
   "id": "d0f21ef9",
   "metadata": {},
   "source": [
    "# Summarize The Results\n"
   ]
  },
  {
   "cell_type": "code",
   "execution_count": 34,
   "id": "23035e7f",
   "metadata": {},
   "outputs": [
    {
     "name": "stdout",
     "output_type": "stream",
     "text": [
      "Best score: -2.2795890092849733\n",
      "Best parameters: {'neuron2': 30, 'neuron1': 10, 'learning_rate': 0.01, 'init': 'normal', 'epochs': 50, 'batch_size': 100, 'activation_function': 'linear'}\n"
     ]
    }
   ],
   "source": [
    "print('Best score:',random_result.best_score_)\n",
    "print('Best parameters:',random_result.best_params_)\n"
   ]
  },
  {
   "cell_type": "code",
   "execution_count": 35,
   "id": "6b540c7b",
   "metadata": {
    "scrolled": false
   },
   "outputs": [
    {
     "name": "stdout",
     "output_type": "stream",
     "text": [
      "Epoch 1/50\n",
      "121/121 [==============================] - 17s 16ms/step - loss: 500.7162 - mse: 500.7162 - mae: 15.7432 - val_loss: 202.8723 - val_mse: 202.8723 - val_mae: 10.8686\n",
      "Epoch 2/50\n",
      "121/121 [==============================] - 1s 9ms/step - loss: 144.9957 - mse: 144.9957 - mae: 9.1817 - val_loss: 68.3226 - val_mse: 68.3226 - val_mae: 6.4493\n",
      "Epoch 3/50\n",
      "121/121 [==============================] - 1s 10ms/step - loss: 45.8612 - mse: 45.8612 - mae: 5.0214 - val_loss: 30.6727 - val_mse: 30.6727 - val_mae: 4.4056\n",
      "Epoch 4/50\n",
      "121/121 [==============================] - 1s 9ms/step - loss: 18.6476 - mse: 18.6476 - mae: 3.2206 - val_loss: 13.1154 - val_mse: 13.1154 - val_mae: 2.8436\n",
      "Epoch 5/50\n",
      "121/121 [==============================] - 1s 10ms/step - loss: 12.6042 - mse: 12.6042 - mae: 2.7859 - val_loss: 12.3370 - val_mse: 12.3370 - val_mae: 2.9357\n",
      "Epoch 6/50\n",
      "121/121 [==============================] - 1s 9ms/step - loss: 11.2919 - mse: 11.2919 - mae: 2.6962 - val_loss: 13.8084 - val_mse: 13.8084 - val_mae: 3.2835\n",
      "Epoch 7/50\n",
      "121/121 [==============================] - 1s 7ms/step - loss: 10.7296 - mse: 10.7296 - mae: 2.6377 - val_loss: 4.7700 - val_mse: 4.7700 - val_mae: 1.8175\n",
      "Epoch 8/50\n",
      "121/121 [==============================] - 1s 7ms/step - loss: 7.3257 - mse: 7.3257 - mae: 2.1698 - val_loss: 6.3777 - val_mse: 6.3777 - val_mae: 2.0511\n",
      "Epoch 9/50\n",
      "121/121 [==============================] - 1s 7ms/step - loss: 8.5884 - mse: 8.5884 - mae: 2.3111 - val_loss: 2.6330 - val_mse: 2.6330 - val_mae: 1.2472\n",
      "Epoch 10/50\n",
      "121/121 [==============================] - 1s 8ms/step - loss: 7.0930 - mse: 7.0930 - mae: 2.1545 - val_loss: 4.0874 - val_mse: 4.0874 - val_mae: 1.6789\n",
      "Epoch 11/50\n",
      "121/121 [==============================] - 1s 6ms/step - loss: 9.5102 - mse: 9.5102 - mae: 2.3932 - val_loss: 17.6175 - val_mse: 17.6175 - val_mae: 3.8768\n",
      "Epoch 12/50\n",
      "121/121 [==============================] - 1s 11ms/step - loss: 8.5081 - mse: 8.5081 - mae: 2.2668 - val_loss: 3.5196 - val_mse: 3.5196 - val_mae: 1.4603\n",
      "Epoch 13/50\n",
      "121/121 [==============================] - 1s 8ms/step - loss: 6.0282 - mse: 6.0282 - mae: 1.9390 - val_loss: 2.4073 - val_mse: 2.4073 - val_mae: 1.1701\n",
      "Epoch 14/50\n",
      "121/121 [==============================] - 1s 8ms/step - loss: 9.9948 - mse: 9.9948 - mae: 2.5040 - val_loss: 2.0769 - val_mse: 2.0769 - val_mae: 1.0887\n",
      "Epoch 15/50\n",
      "121/121 [==============================] - 1s 8ms/step - loss: 5.0431 - mse: 5.0431 - mae: 1.7569 - val_loss: 4.5349 - val_mse: 4.5349 - val_mae: 1.7397\n",
      "Epoch 16/50\n",
      "121/121 [==============================] - 1s 8ms/step - loss: 5.7445 - mse: 5.7445 - mae: 1.8977 - val_loss: 3.1623 - val_mse: 3.1623 - val_mae: 1.3921\n",
      "Epoch 17/50\n",
      "121/121 [==============================] - 1s 9ms/step - loss: 4.9801 - mse: 4.9801 - mae: 1.7801 - val_loss: 3.9394 - val_mse: 3.9394 - val_mae: 1.6604\n",
      "Epoch 18/50\n",
      "121/121 [==============================] - 1s 7ms/step - loss: 5.5840 - mse: 5.5840 - mae: 1.8685 - val_loss: 1.8385 - val_mse: 1.8385 - val_mae: 1.0380\n",
      "Epoch 19/50\n",
      "121/121 [==============================] - 1s 8ms/step - loss: 6.7249 - mse: 6.7249 - mae: 2.0725 - val_loss: 11.7896 - val_mse: 11.7896 - val_mae: 3.1721\n",
      "Epoch 20/50\n",
      "121/121 [==============================] - 1s 8ms/step - loss: 9.3008 - mse: 9.3008 - mae: 2.4388 - val_loss: 2.3053 - val_mse: 2.3053 - val_mae: 1.1604\n",
      "Epoch 21/50\n",
      "121/121 [==============================] - 1s 8ms/step - loss: 7.6431 - mse: 7.6431 - mae: 2.1194 - val_loss: 1.6918 - val_mse: 1.6918 - val_mae: 1.0127\n",
      "Epoch 22/50\n",
      "121/121 [==============================] - 1s 9ms/step - loss: 6.7155 - mse: 6.7155 - mae: 1.9935 - val_loss: 12.6786 - val_mse: 12.6786 - val_mae: 3.2932\n",
      "Epoch 23/50\n",
      "121/121 [==============================] - 1s 7ms/step - loss: 4.6603 - mse: 4.6603 - mae: 1.7314 - val_loss: 4.7972 - val_mse: 4.7972 - val_mae: 1.8553\n",
      "Epoch 24/50\n",
      "121/121 [==============================] - 2s 14ms/step - loss: 6.5147 - mse: 6.5147 - mae: 1.9861 - val_loss: 25.2151 - val_mse: 25.2151 - val_mae: 4.7896\n",
      "Epoch 25/50\n",
      "121/121 [==============================] - 1s 8ms/step - loss: 5.0212 - mse: 5.0212 - mae: 1.7963 - val_loss: 2.5207 - val_mse: 2.5207 - val_mae: 1.2344\n",
      "Epoch 26/50\n",
      "121/121 [==============================] - 1s 9ms/step - loss: 6.1484 - mse: 6.1484 - mae: 1.9816 - val_loss: 9.4303 - val_mse: 9.4303 - val_mae: 2.8298\n",
      "Epoch 27/50\n",
      "121/121 [==============================] - 1s 9ms/step - loss: 6.4844 - mse: 6.4844 - mae: 2.0719 - val_loss: 6.7506 - val_mse: 6.7506 - val_mae: 2.3100\n",
      "Epoch 28/50\n",
      "121/121 [==============================] - 1s 9ms/step - loss: 6.5020 - mse: 6.5020 - mae: 1.9068 - val_loss: 1.5656 - val_mse: 1.5656 - val_mae: 0.9689\n",
      "Epoch 29/50\n",
      "121/121 [==============================] - 1s 7ms/step - loss: 4.0739 - mse: 4.0739 - mae: 1.5572 - val_loss: 2.1594 - val_mse: 2.1594 - val_mae: 1.1862\n",
      "Epoch 30/50\n",
      "121/121 [==============================] - 1s 7ms/step - loss: 7.5230 - mse: 7.5230 - mae: 2.2312 - val_loss: 10.7312 - val_mse: 10.7312 - val_mae: 3.0404\n",
      "Epoch 31/50\n",
      "121/121 [==============================] - 1s 9ms/step - loss: 6.1465 - mse: 6.1465 - mae: 2.0504 - val_loss: 4.8807 - val_mse: 4.8807 - val_mae: 1.9006\n",
      "Epoch 32/50\n",
      "121/121 [==============================] - 1s 7ms/step - loss: 5.4645 - mse: 5.4645 - mae: 1.8398 - val_loss: 10.8426 - val_mse: 10.8426 - val_mae: 3.0567\n",
      "Epoch 33/50\n",
      "121/121 [==============================] - 1s 6ms/step - loss: 5.2175 - mse: 5.2175 - mae: 1.8659 - val_loss: 3.3274 - val_mse: 3.3274 - val_mae: 1.5275\n",
      "Epoch 34/50\n",
      "121/121 [==============================] - 1s 6ms/step - loss: 4.8688 - mse: 4.8688 - mae: 1.7399 - val_loss: 8.8627 - val_mse: 8.8627 - val_mae: 2.7616\n",
      "Epoch 35/50\n",
      "121/121 [==============================] - 1s 6ms/step - loss: 7.5284 - mse: 7.5284 - mae: 2.2944 - val_loss: 14.0634 - val_mse: 14.0634 - val_mae: 3.5436\n",
      "Epoch 36/50\n",
      "121/121 [==============================] - 1s 7ms/step - loss: 3.7928 - mse: 3.7928 - mae: 1.5505 - val_loss: 4.9873 - val_mse: 4.9873 - val_mae: 1.9632\n",
      "Epoch 37/50\n",
      "121/121 [==============================] - 1s 4ms/step - loss: 6.0346 - mse: 6.0346 - mae: 2.0272 - val_loss: 1.5970 - val_mse: 1.5970 - val_mae: 0.9624\n",
      "Epoch 38/50\n",
      "121/121 [==============================] - 2s 13ms/step - loss: 6.0329 - mse: 6.0329 - mae: 1.9735 - val_loss: 1.4556 - val_mse: 1.4556 - val_mae: 0.9182\n",
      "Epoch 39/50\n",
      "121/121 [==============================] - 1s 8ms/step - loss: 5.0336 - mse: 5.0336 - mae: 1.7523 - val_loss: 2.3761 - val_mse: 2.3761 - val_mae: 1.1962\n",
      "Epoch 40/50\n",
      "121/121 [==============================] - 1s 8ms/step - loss: 5.4074 - mse: 5.4074 - mae: 1.8925 - val_loss: 2.2756 - val_mse: 2.2756 - val_mae: 1.2343\n",
      "Epoch 41/50\n",
      "121/121 [==============================] - 1s 11ms/step - loss: 4.9676 - mse: 4.9676 - mae: 1.8341 - val_loss: 3.5075 - val_mse: 3.5075 - val_mae: 1.5566\n",
      "Epoch 42/50\n",
      "121/121 [==============================] - 1s 6ms/step - loss: 4.8709 - mse: 4.8709 - mae: 1.7310 - val_loss: 4.5537 - val_mse: 4.5537 - val_mae: 1.8720\n",
      "Epoch 43/50\n",
      "121/121 [==============================] - 1s 6ms/step - loss: 3.8478 - mse: 3.8478 - mae: 1.5625 - val_loss: 2.6316 - val_mse: 2.6316 - val_mae: 1.3548\n",
      "Epoch 44/50\n",
      "121/121 [==============================] - 1s 7ms/step - loss: 6.3161 - mse: 6.3161 - mae: 1.9286 - val_loss: 2.0906 - val_mse: 2.0906 - val_mae: 1.1149\n",
      "Epoch 45/50\n",
      "121/121 [==============================] - 1s 8ms/step - loss: 4.5079 - mse: 4.5079 - mae: 1.6542 - val_loss: 5.1985 - val_mse: 5.1985 - val_mae: 2.0009\n",
      "Epoch 46/50\n",
      "121/121 [==============================] - 1s 9ms/step - loss: 6.3468 - mse: 6.3468 - mae: 2.0536 - val_loss: 13.7998 - val_mse: 13.7998 - val_mae: 3.5336\n",
      "Epoch 47/50\n",
      "121/121 [==============================] - 1s 10ms/step - loss: 5.5578 - mse: 5.5578 - mae: 1.9339 - val_loss: 4.7898 - val_mse: 4.7898 - val_mae: 1.9083\n",
      "Epoch 48/50\n",
      "121/121 [==============================] - 1s 8ms/step - loss: 4.4742 - mse: 4.4742 - mae: 1.6574 - val_loss: 1.3493 - val_mse: 1.3493 - val_mae: 0.8870\n",
      "Epoch 49/50\n",
      "121/121 [==============================] - 1s 6ms/step - loss: 3.5548 - mse: 3.5548 - mae: 1.4907 - val_loss: 4.1880 - val_mse: 4.1880 - val_mae: 1.7951\n",
      "Epoch 50/50\n",
      "121/121 [==============================] - 1s 5ms/step - loss: 4.7634 - mse: 4.7634 - mae: 1.7511 - val_loss: 5.6717 - val_mse: 5.6717 - val_mae: 2.1062\n"
     ]
    }
   ],
   "source": [
    "## storing the best parameters in a variable\n",
    "## fitting the model with best parameters\n",
    "\n",
    "d1= random_result.best_params_\n",
    "\n",
    "keras_tuned=keras_reg_model(learning_rate=d1['learning_rate'],activation_function=d1['activation_function'],init=d1['init'],\n",
    "                                                                                       neuron1=d1['neuron1'],neuron2=d1['neuron2'])\n",
    "\n",
    "# Training and evaluating the model\n",
    "history2=keras_tuned.fit(x_train, y_train, validation_data=(x_test,y_test),\n",
    "                         epochs =d1['epochs'], batch_size=d1['batch_size'])\n"
   ]
  },
  {
   "cell_type": "markdown",
   "id": "5ab00229",
   "metadata": {},
   "source": [
    "# Plotting Loss(MSE) After Tuning\n"
   ]
  },
  {
   "cell_type": "code",
   "execution_count": 36,
   "id": "9862acd6",
   "metadata": {},
   "outputs": [
    {
     "data": {
      "image/png": "[encoded data removed]",
      "text/plain": [
       "<Figure size 640x480 with 1 Axes>"
      ]
     },
     "metadata": {},
     "output_type": "display_data"
    }
   ],
   "source": [
    "\n",
    "plt.title('Model Loss(MSE)After Tuning')\n",
    "plt.plot(history2.history['loss'], label='train')\n",
    "plt.plot(history2.history['val_loss'], label='test')\n",
    "plt.ylabel('MSE')\n",
    "plt.xlabel('epoch')\n",
    "\n",
    "plt.legend()\n",
    "plt.show()"
   ]
  },
  {
   "cell_type": "markdown",
   "id": "a2b750f4",
   "metadata": {},
   "source": [
    "# Evaluate The Model\n"
   ]
  },
  {
   "cell_type": "code",
   "execution_count": 37,
   "id": "f2c0beb7",
   "metadata": {},
   "outputs": [
    {
     "name": "stdout",
     "output_type": "stream",
     "text": [
      "376/376 [==============================] - 2s 4ms/step\n",
      "94/94 [==============================] - 0s 4ms/step\n",
      "Training set rmse : 2.350, Testing set rmse: 2.382\n"
     ]
    }
   ],
   "source": [
    "\n",
    "y_train_pred_tuned= keras_tuned.predict(x_train)\n",
    "y_test_pred_tuned= keras_tuned.predict(x_test)\n",
    "\n",
    "from sklearn.metrics import mean_squared_error\n",
    "\n",
    "train_rmse_tuned = mean_squared_error(y_train,y_train_pred_tuned,squared=False)\n",
    "test_rmse_tuned = mean_squared_error(y_test, y_test_pred_tuned,squared=False)\n",
    "\n",
    "print('Training set rmse : %.3f, Testing set rmse: %.3f' % (train_rmse_tuned, test_rmse_tuned))"
   ]
  },
  {
   "cell_type": "markdown",
   "id": "5fb70c32",
   "metadata": {},
   "source": [
    "# Comparing The Model"
   ]
  },
  {
   "cell_type": "code",
   "execution_count": 38,
   "id": "ca0965c5",
   "metadata": {},
   "outputs": [
    {
     "data": {
      "text/html": [
       "<div>\n",
       "<style scoped>\n",
       "    .dataframe tbody tr th:only-of-type {\n",
       "        vertical-align: middle;\n",
       "    }\n",
       "\n",
       "    .dataframe tbody tr th {\n",
       "        vertical-align: top;\n",
       "    }\n",
       "\n",
       "    .dataframe thead th {\n",
       "        text-align: right;\n",
       "    }\n",
       "</style>\n",
       "<table border=\"1\" class=\"dataframe\">\n",
       "  <thead>\n",
       "    <tr style=\"text-align: right;\">\n",
       "      <th></th>\n",
       "      <th>models</th>\n",
       "      <th>train rmse</th>\n",
       "      <th>test rmse</th>\n",
       "    </tr>\n",
       "  </thead>\n",
       "  <tbody>\n",
       "    <tr>\n",
       "      <th>0</th>\n",
       "      <td>base model</td>\n",
       "      <td>9.046365</td>\n",
       "      <td>9.112587</td>\n",
       "    </tr>\n",
       "    <tr>\n",
       "      <th>1</th>\n",
       "      <td>tuned model</td>\n",
       "      <td>2.349988</td>\n",
       "      <td>2.381538</td>\n",
       "    </tr>\n",
       "  </tbody>\n",
       "</table>\n",
       "</div>"
      ],
      "text/plain": [
       "        models  train rmse  test rmse\n",
       "0   base model    9.046365   9.112587\n",
       "1  tuned model    2.349988   2.381538"
      ]
     },
     "execution_count": 38,
     "metadata": {},
     "output_type": "execute_result"
    }
   ],
   "source": [
    "result=pd.DataFrame({'models':['base model','tuned model'],'train rmse':[train_rmse,train_rmse_tuned],\n",
    "                     'test rmse':[test_rmse,test_rmse_tuned]})\n",
    "result"
   ]
  },
  {
   "cell_type": "markdown",
   "id": "64bffa89",
   "metadata": {},
   "source": [
    "For both base model and tuned model, the difference between rmse for train and test set is very low indicating almost no overfitting.\n",
    "\n",
    "For tuned model,the rmse has decreased compared to base model suggesting that hypertuning parameters has increased the efficiency of this regression model"
   ]
  },
  {
   "cell_type": "code",
   "execution_count": null,
   "id": "7c4c25ac",
   "metadata": {},
   "outputs": [],
   "source": []
  }
 ],
 "metadata": {
  "kernelspec": {
   "display_name": "Python 3 (ipykernel)",
   "language": "python",
   "name": "python3"
  },
  "language_info": {
   "codemirror_mode": {
    "name": "ipython",
    "version": 3
   },
   "file_extension": ".py",
   "mimetype": "text/x-python",
   "name": "python",
   "nbconvert_exporter": "python",
   "pygments_lexer": "ipython3",
   "version": "3.9.13"
  }
 },
 "nbformat": 4,
 "nbformat_minor": 5
}
